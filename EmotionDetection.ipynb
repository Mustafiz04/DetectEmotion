{
 "cells": [
  {
   "cell_type": "code",
   "execution_count": 1,
   "metadata": {},
   "outputs": [],
   "source": [
    "import numpy as np\n",
    "import pandas as pd\n",
    "import matplotlib.pyplot as plt\n",
    "import seaborn as sns\n",
    "import cv2\n",
    "import math\n",
    "%matplotlib inline"
   ]
  },
  {
   "cell_type": "code",
   "execution_count": 2,
   "metadata": {},
   "outputs": [],
   "source": [
    "# videoFile = \"Dataset/Train Tom and Jerry.mp4\"\n",
    "# imageFolder = \"Dataset/frameTrain\"\n",
    "# cap = cv2.VideoCapture(videoFile)\n",
    "# frameRate = cap.get(5)\n",
    "# count = 0\n",
    "# while( cap.isOpened() ):\n",
    "#     frameId = cap.get(1)\n",
    "#     ret, frame = cap.read()\n",
    "#     if(ret != True):\n",
    "#         break\n",
    "#     if(frameId % math.floor(frameRate) == 0 ):\n",
    "#         filename = imageFolder + \"/frame\" + str(count) + \".jpg\"\n",
    "#         cv2.imwrite(filename,frame)\n",
    "#         count = count + 1\n",
    "        \n",
    "# cap.release()\n",
    "# print(\"Done!\")\n"
   ]
  },
  {
   "cell_type": "code",
   "execution_count": 3,
   "metadata": {},
   "outputs": [],
   "source": [
    "# videoFile = \"Dataset/Test Tom and Jerry.mp4\"\n",
    "# imageFolder = \"Dataset/frameTest\"\n",
    "# cap = cv2.VideoCapture(videoFile)\n",
    "# frameRate = cap.get(5)\n",
    "# count = 0\n",
    "# while( cap.isOpened() ):\n",
    "#     frameId = cap.get(1)\n",
    "#     ret, frame = cap.read()\n",
    "#     if(ret != True):\n",
    "#         break\n",
    "#     if(frameId % math.floor(frameRate) == 0 ):\n",
    "#         filename = imageFolder + \"/test\" + str(count) + \".jpg\"\n",
    "#         cv2.imwrite(filename,frame)\n",
    "#         count = count + 1\n",
    "        \n",
    "# cap.release()\n",
    "# print(\"Done!\")"
   ]
  },
  {
   "cell_type": "code",
   "execution_count": 4,
   "metadata": {},
   "outputs": [],
   "source": [
    "train = pd.read_csv('dataset/train.csv')\n",
    "test  = pd.read_csv('dataset/test.csv')"
   ]
  },
  {
   "cell_type": "code",
   "execution_count": 5,
   "metadata": {},
   "outputs": [
    {
     "data": {
      "text/plain": [
       "(298, 2)"
      ]
     },
     "execution_count": 5,
     "metadata": {},
     "output_type": "execute_result"
    }
   ],
   "source": [
    "train.shape"
   ]
  },
  {
   "cell_type": "code",
   "execution_count": 6,
   "metadata": {},
   "outputs": [],
   "source": [
    "s = train['Emotion'].tolist()"
   ]
  },
  {
   "cell_type": "code",
   "execution_count": 7,
   "metadata": {},
   "outputs": [],
   "source": [
    "# s"
   ]
  },
  {
   "cell_type": "code",
   "execution_count": 8,
   "metadata": {},
   "outputs": [
    {
     "data": {
      "text/plain": [
       "array(['happy', 'surprised', 'angry', 'Unknown', 'sad'], dtype=object)"
      ]
     },
     "execution_count": 8,
     "metadata": {},
     "output_type": "execute_result"
    }
   ],
   "source": [
    "train['Emotion'].unique()"
   ]
  },
  {
   "cell_type": "code",
   "execution_count": 9,
   "metadata": {},
   "outputs": [
    {
     "name": "stdout",
     "output_type": "stream",
     "text": [
      "dict_keys(['happy', 'surprised', 'angry', 'Unknown', 'sad'])\n",
      "dict_values([37, 68, 37, 116, 40])\n",
      "5\n"
     ]
    }
   ],
   "source": [
    "from collections import Counter\n",
    "\n",
    "print(Counter(s).keys()) # equals to list(set(words))\n",
    "print(Counter(s).values()) # counts the elements' frequency\n",
    "print(len(Counter(s).keys()))"
   ]
  },
  {
   "cell_type": "code",
   "execution_count": 10,
   "metadata": {},
   "outputs": [],
   "source": [
    "tg_dict = {\"happy\":0, \"surprised\": 1, \"angry\": 2,\"Unknown\":3, \"sad\":4}\n",
    "def label_encode(x):\n",
    "    return tg_dict[x]"
   ]
  },
  {
   "cell_type": "code",
   "execution_count": 11,
   "metadata": {},
   "outputs": [],
   "source": [
    "train['Emotion'] = train['Emotion'].apply(label_encode)\n",
    "\n",
    "frame_ID = train['Frame_ID'].tolist()\n",
    "emotion = train['Emotion'].tolist()"
   ]
  },
  {
   "cell_type": "code",
   "execution_count": 33,
   "metadata": {},
   "outputs": [],
   "source": [
    "# emotion"
   ]
  },
  {
   "cell_type": "code",
   "execution_count": 12,
   "metadata": {},
   "outputs": [],
   "source": [
    "from tensorflow import keras\n",
    "from tensorflow.keras.applications.vgg16 import VGG16\n",
    "from tensorflow.keras.applications.vgg19 import VGG19\n",
    "from tensorflow.keras.applications.mobilenet import MobileNet\n",
    "from tensorflow.keras.preprocessing import image\n",
    "from tensorflow.keras.applications.vgg16 import preprocess_input, decode_predictions\n",
    "from tensorflow.keras.layers import Dense, Activation, Flatten,Input\n",
    "from tensorflow.keras.models import Model, Sequential\n",
    "from tensorflow.keras.utils import to_categorical\n",
    "from tensorflow.keras import backend as K\n",
    "from tensorflow.keras.layers import *\n",
    "from tensorflow.keras.callbacks import *\n",
    "import os\n",
    "import glob\n",
    "import tensorflow as tf"
   ]
  },
  {
   "cell_type": "code",
   "execution_count": 13,
   "metadata": {},
   "outputs": [],
   "source": [
    "features=[]\n",
    "labels=[]\n",
    "path = 'Dataset/frameTrain/'\n",
    "for i in range(0,298):\n",
    "  if os.path.isfile(path+str(frame_ID[i])):\n",
    "    pic = image.load_img(path+str(frame_ID[i]), target_size=(224, 224))\n",
    "    #print(path+str(images[i]))\n",
    "    x = image.img_to_array(pic)\n",
    "    x = np.expand_dims(x, axis=0)\n",
    "    x = preprocess_input(x)\n",
    "    features.append(x)\n",
    "    labels.append(emotion[i])\n",
    "  else:\n",
    "    print(path+str(frame_ID[i]), 'not present')"
   ]
  },
  {
   "cell_type": "code",
   "execution_count": 14,
   "metadata": {},
   "outputs": [
    {
     "data": {
      "text/plain": [
       "298"
      ]
     },
     "execution_count": 14,
     "metadata": {},
     "output_type": "execute_result"
    }
   ],
   "source": [
    "len(features)"
   ]
  },
  {
   "cell_type": "code",
   "execution_count": 15,
   "metadata": {},
   "outputs": [
    {
     "name": "stdout",
     "output_type": "stream",
     "text": [
      "(298, 1, 224, 224, 3)\n",
      "(1, 298, 224, 224, 3)\n",
      "(298, 224, 224, 3)\n",
      "(298, 5)\n"
     ]
    }
   ],
   "source": [
    "npfeatures = np.array(features)\n",
    "print(npfeatures.shape)\n",
    "img_dt = np.rollaxis(npfeatures, 1, 0)\n",
    "print(img_dt.shape)\n",
    "X = img_dt[0]\n",
    "print(X.shape)\n",
    "labels = np.array(emotion)\n",
    "Y = to_categorical(emotion,5)\n",
    "print(Y.shape)\n",
    "# print(Y)"
   ]
  },
  {
   "cell_type": "code",
   "execution_count": 16,
   "metadata": {},
   "outputs": [],
   "source": [
    "def recall_m(y_true, y_pred):\n",
    "        true_positives = K.sum(K.round(K.clip(y_true * y_pred, 0, 1)))\n",
    "        possible_positives = K.sum(K.round(K.clip(y_true, 0, 1)))\n",
    "        recall = true_positives / (possible_positives + K.epsilon())\n",
    "        return recall\n",
    "\n",
    "def precision_m(y_true, y_pred):\n",
    "        true_positives = K.sum(K.round(K.clip(y_true * y_pred, 0, 1)))\n",
    "        predicted_positives = K.sum(K.round(K.clip(y_pred, 0, 1)))\n",
    "        precision = true_positives / (predicted_positives + K.epsilon())\n",
    "        return precision\n",
    "\n",
    "def f1_m(y_true, y_pred):\n",
    "    precision = precision_m(y_true, y_pred)\n",
    "    recall = recall_m(y_true, y_pred)\n",
    "    return 2*((precision*recall)/(precision+recall+K.epsilon()))"
   ]
  },
  {
   "cell_type": "code",
   "execution_count": 34,
   "metadata": {},
   "outputs": [],
   "source": [
    "from sklearn.model_selection import train_test_split\n",
    "from tensorflow.keras.preprocessing.image import ImageDataGenerator"
   ]
  },
  {
   "cell_type": "code",
   "execution_count": 35,
   "metadata": {},
   "outputs": [],
   "source": [
    "IMAGE_SIZE=[224,224]\n",
    "pretrained_model = MobileNet(weights='imagenet', include_top=False ,input_shape=[*IMAGE_SIZE, 3])\n",
    "pretrained_model.trainable = False"
   ]
  },
  {
   "cell_type": "code",
   "execution_count": 36,
   "metadata": {},
   "outputs": [],
   "source": [
    "model = Sequential([\n",
    "        pretrained_model,\n",
    "        GlobalAveragePooling2D(),\n",
    "        Dense(60, activation='relu'),\n",
    "        Dense(30, activation='relu'),\n",
    "        \n",
    "        Dense(5, activation='softmax')\n",
    "    ])\n",
    "es = keras.callbacks.EarlyStopping(monitor='val_loss', min_delta=0, patience=4, verbose=0, mode='auto', baseline=None, restore_best_weights=False)"
   ]
  },
  {
   "cell_type": "code",
   "execution_count": 37,
   "metadata": {},
   "outputs": [
    {
     "name": "stdout",
     "output_type": "stream",
     "text": [
      "Train on 268 samples, validate on 30 samples\n",
      "Epoch 1/10\n",
      "268/268 [==============================] - 87s 325ms/sample - loss: 1.5472 - f1_m: 0.0757 - val_loss: 1.0388 - val_f1_m: 0.6957\n",
      "Epoch 2/10\n",
      "268/268 [==============================] - 80s 300ms/sample - loss: 1.2344 - f1_m: 0.3492 - val_loss: 0.8792 - val_f1_m: 0.6809\n",
      "Epoch 3/10\n",
      "268/268 [==============================] - 78s 293ms/sample - loss: 1.0919 - f1_m: 0.4406 - val_loss: 0.8809 - val_f1_m: 0.6809\n",
      "Epoch 4/10\n",
      "268/268 [==============================] - 80s 297ms/sample - loss: 0.9840 - f1_m: 0.5303 - val_loss: 0.8914 - val_f1_m: 0.7083\n",
      "Epoch 5/10\n",
      "268/268 [==============================] - 78s 292ms/sample - loss: 0.8711 - f1_m: 0.6019 - val_loss: 0.9422 - val_f1_m: 0.6939\n",
      "Epoch 6/10\n",
      "268/268 [==============================] - 79s 294ms/sample - loss: 0.8449 - f1_m: 0.5866 - val_loss: 0.8701 - val_f1_m: 0.6939\n",
      "Epoch 7/10\n",
      "268/268 [==============================] - 79s 293ms/sample - loss: 0.7302 - f1_m: 0.6862 - val_loss: 1.0303 - val_f1_m: 0.6667\n",
      "Epoch 8/10\n",
      "268/268 [==============================] - 79s 295ms/sample - loss: 0.6956 - f1_m: 0.7148 - val_loss: 0.9990 - val_f1_m: 0.6939\n",
      "Epoch 9/10\n",
      "268/268 [==============================] - 78s 292ms/sample - loss: 0.6268 - f1_m: 0.7488 - val_loss: 1.0181 - val_f1_m: 0.6939\n",
      "Epoch 10/10\n",
      "268/268 [==============================] - 79s 294ms/sample - loss: 0.6053 - f1_m: 0.7552 - val_loss: 1.0879 - val_f1_m: 0.6667\n"
     ]
    },
    {
     "data": {
      "text/plain": [
       "<tensorflow.python.keras.callbacks.History at 0x18892278208>"
      ]
     },
     "execution_count": 37,
     "metadata": {},
     "output_type": "execute_result"
    }
   ],
   "source": [
    "model.compile(optimizer = 'adamax', loss='categorical_crossentropy', metrics=[f1_m])    \n",
    "model.fit(X, Y, batch_size=32, epochs=10, validation_split=.1,callbacks=[es])"
   ]
  },
  {
   "cell_type": "code",
   "execution_count": 38,
   "metadata": {},
   "outputs": [],
   "source": [
    "images_test = test['Frame_ID'].tolist()\n",
    "test_features=[]\n",
    "path_test = 'Dataset/frameTest/'"
   ]
  },
  {
   "cell_type": "code",
   "execution_count": 39,
   "metadata": {},
   "outputs": [
    {
     "data": {
      "text/plain": [
       "186"
      ]
     },
     "execution_count": 39,
     "metadata": {},
     "output_type": "execute_result"
    }
   ],
   "source": [
    "len(images_test)"
   ]
  },
  {
   "cell_type": "code",
   "execution_count": 40,
   "metadata": {},
   "outputs": [],
   "source": [
    "for i in range(0,186):\n",
    "  if os.path.isfile(path_test+str(images_test[i])):\n",
    "    pic = image.load_img(path_test+str(images_test[i]), target_size=(224, 224))\n",
    "    #print(path+str(images[i]))\n",
    "    x = image.img_to_array(pic)\n",
    "    x = np.expand_dims(x, axis=0)\n",
    "    x = preprocess_input(x)\n",
    "    test_features.append(x)\n",
    "  else:\n",
    "    print(path_test+str(images_test[i]), 'not present')"
   ]
  },
  {
   "cell_type": "code",
   "execution_count": 41,
   "metadata": {},
   "outputs": [
    {
     "name": "stdout",
     "output_type": "stream",
     "text": [
      "(186, 1, 224, 224, 3)\n",
      "(1, 186, 224, 224, 3)\n",
      "(186, 224, 224, 3)\n"
     ]
    }
   ],
   "source": [
    "test_features = np.array(test_features)\n",
    "print(test_features.shape)\n",
    "test_features = np.rollaxis(test_features, 1, 0)\n",
    "print(test_features.shape)\n",
    "X_test = test_features[0]\n",
    "print(X_test.shape)"
   ]
  },
  {
   "cell_type": "code",
   "execution_count": 42,
   "metadata": {},
   "outputs": [],
   "source": [
    "preds = model.predict(X_test)"
   ]
  },
  {
   "cell_type": "code",
   "execution_count": 43,
   "metadata": {},
   "outputs": [],
   "source": [
    "predictions=[]\n",
    "for i in preds:\n",
    "    predictions.append(np.argmax(i))"
   ]
  },
  {
   "cell_type": "code",
   "execution_count": 44,
   "metadata": {},
   "outputs": [
    {
     "data": {
      "text/plain": [
       "186"
      ]
     },
     "execution_count": 44,
     "metadata": {},
     "output_type": "execute_result"
    }
   ],
   "source": [
    "len(predictions)"
   ]
  },
  {
   "cell_type": "code",
   "execution_count": 45,
   "metadata": {},
   "outputs": [],
   "source": [
    "test['Emotion'] = predictions"
   ]
  },
  {
   "cell_type": "code",
   "execution_count": 46,
   "metadata": {},
   "outputs": [],
   "source": [
    "gt_dict = dict((v,k) for k,v in tg_dict.items())\n",
    "\n",
    "def inverse_encode(x):\n",
    "    return gt_dict[x]\n",
    "\n",
    "test['Emotion'] = test['Emotion'].apply(inverse_encode)"
   ]
  },
  {
   "cell_type": "code",
   "execution_count": 47,
   "metadata": {},
   "outputs": [
    {
     "data": {
      "text/html": [
       "<div>\n",
       "<style scoped>\n",
       "    .dataframe tbody tr th:only-of-type {\n",
       "        vertical-align: middle;\n",
       "    }\n",
       "\n",
       "    .dataframe tbody tr th {\n",
       "        vertical-align: top;\n",
       "    }\n",
       "\n",
       "    .dataframe thead th {\n",
       "        text-align: right;\n",
       "    }\n",
       "</style>\n",
       "<table border=\"1\" class=\"dataframe\">\n",
       "  <thead>\n",
       "    <tr style=\"text-align: right;\">\n",
       "      <th></th>\n",
       "      <th>Frame_ID</th>\n",
       "      <th>Emotion</th>\n",
       "    </tr>\n",
       "  </thead>\n",
       "  <tbody>\n",
       "    <tr>\n",
       "      <th>0</th>\n",
       "      <td>test0.jpg</td>\n",
       "      <td>angry</td>\n",
       "    </tr>\n",
       "  </tbody>\n",
       "</table>\n",
       "</div>"
      ],
      "text/plain": [
       "    Frame_ID Emotion\n",
       "0  test0.jpg   angry"
      ]
     },
     "execution_count": 47,
     "metadata": {},
     "output_type": "execute_result"
    }
   ],
   "source": [
    "test.head(1)"
   ]
  },
  {
   "cell_type": "code",
   "execution_count": 48,
   "metadata": {},
   "outputs": [],
   "source": [
    "test.to_csv('Submission.csv',header=True,index = None)"
   ]
  },
  {
   "cell_type": "code",
   "execution_count": null,
   "metadata": {},
   "outputs": [],
   "source": []
  }
 ],
 "metadata": {
  "kernelspec": {
   "display_name": "Pyhton 3.7 (tensorflow)",
   "language": "python",
   "name": "tensorflow"
  },
  "language_info": {
   "codemirror_mode": {
    "name": "ipython",
    "version": 3
   },
   "file_extension": ".py",
   "mimetype": "text/x-python",
   "name": "python",
   "nbconvert_exporter": "python",
   "pygments_lexer": "ipython3",
   "version": "3.7.7"
  }
 },
 "nbformat": 4,
 "nbformat_minor": 4
}
